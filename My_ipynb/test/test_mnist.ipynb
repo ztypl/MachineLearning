{
 "cells": [
  {
   "cell_type": "code",
   "execution_count": 29,
   "metadata": {},
   "outputs": [],
   "source": [
    "import numpy\n",
    "import matplotlib.pyplot as plt\n",
    "import keras\n",
    "import tensorflow as tf\n",
    "from mnist import *\n",
    "from sklearn.svm import SVC\n",
    "from sklearn.ensemble import RandomForestClassifier, GradientBoostingClassifier\n",
    "from sklearn.metrics import confusion_matrix, accuracy_score\n",
    "import lightgbm as lgb"
   ]
  },
  {
   "cell_type": "code",
   "execution_count": 2,
   "metadata": {
    "collapsed": true
   },
   "outputs": [],
   "source": [
    "X_train, y_train, X_test, y_test = ready_data(\"../data/MNIST/\")"
   ]
  },
  {
   "cell_type": "code",
   "execution_count": 3,
   "metadata": {
    "scrolled": true
   },
   "outputs": [
    {
     "data": {
      "image/png": "[encoded data removed]",
      "text/plain": [
       "<matplotlib.figure.Figure at 0x1383eec37f0>"
      ]
     },
     "metadata": {},
     "output_type": "display_data"
    }
   ],
   "source": [
    "plt.imshow(X_train[2,:].reshape(28, 28), cmap=plt.cm.Greys)\n",
    "plt.show()"
   ]
  },
  {
   "cell_type": "code",
   "execution_count": 24,
   "metadata": {},
   "outputs": [
    {
     "name": "stdout",
     "output_type": "stream",
     "text": [
      "[[ 915   11    5    1    2   26    9    6    2    3]\n",
      " [   0 1101    1    3    0    1    4    2   22    1]\n",
      " [  17   31  909    4   10    5   11   26   17    2]\n",
      " [   1   26   20  833    1   67    3   19   32    8]\n",
      " [   1   18    4    0  869    2   14    2    1   71]\n",
      " [   4   30    5   32    9  778   11    8    5   10]\n",
      " [  13   22   12    0   12   25  871    1    2    0]\n",
      " [   1   33   16   10   14    1    0  923    0   30]\n",
      " [  33   10   10   36   10   26    9   19  777   44]\n",
      " [  11   14    4   13   46    6    0   24    2  889]]\n",
      "0.8865\n",
      "Wall time: 6.86 s\n"
     ]
    }
   ],
   "source": [
    "%%time\n",
    "model = SVC(kernel='poly')\n",
    "model.fit(X_train[:1000,:], y_train[:1000])\n",
    "y_pred = model.predict(X_test)\n",
    "\n",
    "print(confusion_matrix(y_test, y_pred))\n",
    "print(accuracy_score(y_test, y_pred))"
   ]
  },
  {
   "cell_type": "code",
   "execution_count": 34,
   "metadata": {},
   "outputs": [
    {
     "name": "stderr",
     "output_type": "stream",
     "text": [
      "Exception ignored in: <bound method Booster.__del__ of <xgboost.core.Booster object at 0x0000013850494A58>>\n",
      "Traceback (most recent call last):\n",
      "  File \"C:\\Users\\ztypl\\Anaconda3\\lib\\site-packages\\xgboost\\core.py\", line 892, in __del__\n",
      "    if self.handle is not None:\n",
      "AttributeError: 'Booster' object has no attribute 'handle'\n"
     ]
    },
    {
     "name": "stdout",
     "output_type": "stream",
     "text": [
      "[[ 944    1    6    2    3    4    4    4    8    4]\n",
      " [   0 1090    5    2    0    4    3    1   30    0]\n",
      " [  20   11  885   18   14    1   19   23   34    7]\n",
      " [  11    6   21  788    2   95    9   24   33   21]\n",
      " [   3   12   10    6  804    8   17    9   18   95]\n",
      " [  16    7    8   22   22  720   23   16   23   35]\n",
      " [  18    4   29    0   50   43  802    2    9    1]\n",
      " [   4   15   20   10   15    4    0  902    2   56]\n",
      " [   8   14   50   23   12   24   10   14  761   58]\n",
      " [  11    2    6   20   40   15    2   59    3  851]]\n",
      "0.8547\n",
      "Wall time: 48.9 s\n"
     ]
    }
   ],
   "source": [
    "%%time\n",
    "model = GradientBoostingClassifier(n_estimators=1000)\n",
    "model.fit(X_train[:1000,:], y_train[:1000])\n",
    "y_pred = model.predict(X_test)\n",
    "\n",
    "print(confusion_matrix(y_test, y_pred))\n",
    "print(accuracy_score(y_test, y_pred))"
   ]
  },
  {
   "cell_type": "code",
   "execution_count": 35,
   "metadata": {},
   "outputs": [
    {
     "name": "stdout",
     "output_type": "stream",
     "text": [
      "[[ 942    1    5    0    2    7    9    3   11    0]\n",
      " [   0 1086   10    3    0    1    5    1   28    1]\n",
      " [  11    6  913   18   11    3   28   19   20    3]\n",
      " [   9    2   35  784    2   92    6   26   48    6]\n",
      " [   2    1    1    2  818    2   22   11    8  115]\n",
      " [  15   12    1   14    7  771   22   12   31    7]\n",
      " [  15    4   11    1   42   20  838    7   19    1]\n",
      " [   6    9   36    4   17    4    0  909    2   41]\n",
      " [   9   11   31    9   20   19   28   14  786   47]\n",
      " [   9    4    6   17   51   14    4   50    8  846]]\n",
      "0.8693\n",
      "Wall time: 6.53 s\n"
     ]
    },
    {
     "name": "stderr",
     "output_type": "stream",
     "text": [
      "C:\\Users\\ztypl\\Anaconda3\\lib\\site-packages\\sklearn\\preprocessing\\label.py:151: DeprecationWarning: The truth value of an empty array is ambiguous. Returning False, but in future this will result in an error. Use `array.size > 0` to check that an array is not empty.\n",
      "  if diff:\n"
     ]
    }
   ],
   "source": [
    "%%time\n",
    "model = lgb.LGBMClassifier()\n",
    "model.fit(X_train[:1000,:], y_train[:1000])\n",
    "y_pred = model.predict(X_test)\n",
    "\n",
    "print(confusion_matrix(y_test, y_pred))\n",
    "print(accuracy_score(y_test, y_pred))"
   ]
  },
  {
   "cell_type": "code",
   "execution_count": 64,
   "metadata": {},
   "outputs": [
    {
     "name": "stdout",
     "output_type": "stream",
     "text": [
      "_________________________________________________________________\n",
      "Layer (type)                 Output Shape              Param #   \n",
      "=================================================================\n",
      "dense_45 (Dense)             (None, 100)               78500     \n",
      "_________________________________________________________________\n",
      "dense_46 (Dense)             (None, 50)                5050      \n",
      "_________________________________________________________________\n",
      "dense_47 (Dense)             (None, 20)                1020      \n",
      "_________________________________________________________________\n",
      "dense_48 (Dense)             (None, 10)                210       \n",
      "=================================================================\n",
      "Total params: 84,780\n",
      "Trainable params: 84,780\n",
      "Non-trainable params: 0\n",
      "_________________________________________________________________\n"
     ]
    }
   ],
   "source": [
    "model = keras.Sequential()\n",
    "model.add(keras.layers.Dense(100, input_shape=(28**2,), activation='relu'))\n",
    "model.add(keras.layers.Dense(50, activation='relu'))\n",
    "model.add(keras.layers.Dense(20, activation='relu'))\n",
    "model.add(keras.layers.Dense(10, activation='softmax'))\n",
    "model.compile(loss=keras.losses.categorical_crossentropy,\n",
    "              optimizer=keras.optimizers.Adam(),\n",
    "              metrics=[keras.metrics.categorical_accuracy])\n",
    "model.summary()"
   ]
  },
  {
   "cell_type": "code",
   "execution_count": 65,
   "metadata": {},
   "outputs": [
    {
     "name": "stdout",
     "output_type": "stream",
     "text": [
      "Epoch 1/20\n",
      "60000/60000 [==============================] - 9s 157us/step - loss: 4.1998 - categorical_accuracy: 0.6896\n",
      "Epoch 2/20\n",
      "60000/60000 [==============================] - 9s 142us/step - loss: 0.4253 - categorical_accuracy: 0.9098\n",
      "Epoch 3/20\n",
      "60000/60000 [==============================] - 9s 145us/step - loss: 0.2528 - categorical_accuracy: 0.9400\n",
      "Epoch 4/20\n",
      "60000/60000 [==============================] - 8s 136us/step - loss: 0.1842 - categorical_accuracy: 0.9536\n",
      "Epoch 5/20\n",
      "60000/60000 [==============================] - 9s 144us/step - loss: 0.1477 - categorical_accuracy: 0.9612\n",
      "Epoch 6/20\n",
      "60000/60000 [==============================] - 8s 140us/step - loss: 0.1278 - categorical_accuracy: 0.9650\n",
      "Epoch 7/20\n",
      "60000/60000 [==============================] - 8s 139us/step - loss: 0.1101 - categorical_accuracy: 0.9706\n",
      "Epoch 8/20\n",
      "60000/60000 [==============================] - 9s 143us/step - loss: 0.0960 - categorical_accuracy: 0.9733\n",
      "Epoch 9/20\n",
      "60000/60000 [==============================] - 9s 143us/step - loss: 0.0828 - categorical_accuracy: 0.9765\n",
      "Epoch 10/20\n",
      "60000/60000 [==============================] - 9s 143us/step - loss: 0.0755 - categorical_accuracy: 0.9790\n",
      "Epoch 11/20\n",
      "60000/60000 [==============================] - 9s 145us/step - loss: 0.0703 - categorical_accuracy: 0.9805\n",
      "Epoch 12/20\n",
      "60000/60000 [==============================] - 8s 141us/step - loss: 0.0658 - categorical_accuracy: 0.9823\n",
      "Epoch 13/20\n",
      "60000/60000 [==============================] - 8s 136us/step - loss: 0.0641 - categorical_accuracy: 0.9829\n",
      "Epoch 14/20\n",
      "60000/60000 [==============================] - 8s 140us/step - loss: 0.0565 - categorical_accuracy: 0.9848\n",
      "Epoch 15/20\n",
      "60000/60000 [==============================] - 9s 144us/step - loss: 0.0550 - categorical_accuracy: 0.9848\n",
      "Epoch 16/20\n",
      "60000/60000 [==============================] - 8s 141us/step - loss: 0.0496 - categorical_accuracy: 0.9863\n",
      "Epoch 17/20\n",
      "60000/60000 [==============================] - 8s 139us/step - loss: 0.0512 - categorical_accuracy: 0.9860\n",
      "Epoch 18/20\n",
      "60000/60000 [==============================] - 9s 144us/step - loss: 0.0427 - categorical_accuracy: 0.9889\n",
      "Epoch 19/20\n",
      "60000/60000 [==============================] - 9s 142us/step - loss: 0.0444 - categorical_accuracy: 0.9879\n",
      "Epoch 20/20\n",
      "60000/60000 [==============================] - 9s 145us/step - loss: 0.0404 - categorical_accuracy: 0.9891\n"
     ]
    },
    {
     "data": {
      "text/plain": [
       "<keras.callbacks.History at 0x139813c5e10>"
      ]
     },
     "execution_count": 65,
     "metadata": {},
     "output_type": "execute_result"
    }
   ],
   "source": [
    "model.fit(X_train, keras.utils.to_categorical(y_train, num_classes=10), epochs=20)"
   ]
  },
  {
   "cell_type": "code",
   "execution_count": 66,
   "metadata": {},
   "outputs": [
    {
     "name": "stdout",
     "output_type": "stream",
     "text": [
      "[[ 962    1   10    2    0    0    4    0    1    0]\n",
      " [   0 1119    4    2    0    1    2    1    6    0]\n",
      " [   1    1 1019    4    1    0    2    3    1    0]\n",
      " [   0    0    6  991    0    5    0    3    4    1]\n",
      " [   0    0    5    0  948    0    8    1    4   16]\n",
      " [   1    0    1   19    0  865    2    1    2    1]\n",
      " [   4    2    2    1    2   10  936    0    1    0]\n",
      " [   2    0    8    7    0    1    0 1003    0    7]\n",
      " [   0    1    6   12    0    7    3    5  939    1]\n",
      " [   2    3    1    9    7    5    0    8    8  966]]\n",
      "0.9748\n",
      "[[5860    1   41    1    1    3    7    1    8    0]\n",
      " [   0 6700   15    2    3    0    3   10    9    0]\n",
      " [   1    0 5933    8    2    0    0    4   10    0]\n",
      " [   0    1   14 6093    0    4    0    1   14    4]\n",
      " [   1    0    9    0 5762    0   23    2   20   25]\n",
      " [   1    0    1   32    1 5367    6    0   12    1]\n",
      " [   1    0   11    0    0   25 5874    0    7    0]\n",
      " [   1    2   40   11    0    0    0 6196    3   12]\n",
      " [   2    4   37   21    0   10    4    3 5766    4]\n",
      " [   4    1    4   16   14   11    0    9   25 5865]]\n",
      "0.9902666666666666\n"
     ]
    }
   ],
   "source": [
    "y_pred = model.predict_classes(X_test)\n",
    "print(confusion_matrix(y_test, y_pred))\n",
    "print(accuracy_score(y_test, y_pred))\n",
    "y_pred = model.predict_classes(X_train)\n",
    "print(confusion_matrix(y_train, y_pred))\n",
    "print(accuracy_score(y_train, y_pred))"
   ]
  },
  {
   "cell_type": "code",
   "execution_count": null,
   "metadata": {
    "collapsed": true
   },
   "outputs": [],
   "source": []
  }
 ],
 "metadata": {
  "kernelspec": {
   "display_name": "Python 3",
   "language": "python",
   "name": "python3"
  },
  "language_info": {
   "codemirror_mode": {
    "name": "ipython",
    "version": 3
   },
   "file_extension": ".py",
   "mimetype": "text/x-python",
   "name": "python",
   "nbconvert_exporter": "python",
   "pygments_lexer": "ipython3",
   "version": "3.6.2"
  }
 },
 "nbformat": 4,
 "nbformat_minor": 2
}
