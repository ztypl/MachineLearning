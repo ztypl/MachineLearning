{
 "cells": [
  {
   "cell_type": "code",
   "execution_count": 27,
   "metadata": {},
   "outputs": [],
   "source": [
    "import numpy as np\n",
    "import matplotlib.pyplot as plt\n",
    "from sklearn.linear_model import LinearRegression, LogisticRegression\n",
    "from sklearn.datasets import *\n",
    "from sklearn.model_selection import train_test_split\n",
    "from sklearn import metrics\n",
    "import seaborn as sns\n",
    "%matplotlib inline"
   ]
  },
  {
   "cell_type": "code",
   "execution_count": 28,
   "metadata": {},
   "outputs": [],
   "source": [
    "#sns.set(style=\"white\", palette=\"muted\", color_codes=True)"
   ]
  },
  {
   "cell_type": "code",
   "execution_count": 29,
   "metadata": {},
   "outputs": [
    {
     "data": {
      "text/plain": [
       "<matplotlib.collections.PathCollection at 0x11969da20>"
      ]
     },
     "execution_count": 29,
     "metadata": {},
     "output_type": "execute_result"
    },
    {
     "data": {
      "image/png": "[encoded data removed]",
      "text/plain": [
       "<Figure size 432x288 with 1 Axes>"
      ]
     },
     "metadata": {},
     "output_type": "display_data"
    }
   ],
   "source": [
    "X, y = make_classification(n_samples=300, n_features=2, n_informative=2, n_redundant=0, n_clusters_per_class=1, random_state=50)\n",
    "plt.scatter(X[:,0], X[:,1], c=y, cmap=plt.cm.Spectral)"
   ]
  },
  {
   "cell_type": "code",
   "execution_count": 30,
   "metadata": {},
   "outputs": [],
   "source": [
    "x_train, x_test, y_train, y_test = train_test_split(X, y)"
   ]
  },
  {
   "cell_type": "code",
   "execution_count": 31,
   "metadata": {},
   "outputs": [],
   "source": [
    "model = LogisticRegression()\n",
    "model.fit(x_train, y_train)\n",
    "y_pred = model.predict(x_test)"
   ]
  },
  {
   "cell_type": "code",
   "execution_count": 33,
   "metadata": {},
   "outputs": [
    {
     "data": {
      "text/plain": [
       "array([[8.69643700e-01, 1.30356300e-01],\n",
       "       [9.99613295e-01, 3.86704941e-04],\n",
       "       [9.49300133e-01, 5.06998671e-02],\n",
       "       [7.62019431e-02, 9.23798057e-01],\n",
       "       [9.73587838e-01, 2.64121622e-02],\n",
       "       [9.88671401e-01, 1.13285991e-02],\n",
       "       [1.10680168e-02, 9.88931983e-01],\n",
       "       [1.69262427e-02, 9.83073757e-01],\n",
       "       [9.98750561e-01, 1.24943867e-03],\n",
       "       [1.16744807e-01, 8.83255193e-01],\n",
       "       [9.27250490e-01, 7.27495102e-02],\n",
       "       [7.74705616e-01, 2.25294384e-01],\n",
       "       [4.76417015e-03, 9.95235830e-01],\n",
       "       [5.03999404e-01, 4.96000596e-01],\n",
       "       [2.27779268e-01, 7.72220732e-01],\n",
       "       [8.98588760e-01, 1.01411240e-01],\n",
       "       [1.53202025e-02, 9.84679798e-01],\n",
       "       [1.20055996e-01, 8.79944004e-01],\n",
       "       [3.80701964e-02, 9.61929804e-01],\n",
       "       [9.80158586e-04, 9.99019841e-01],\n",
       "       [9.96991458e-01, 3.00854208e-03],\n",
       "       [1.05021043e-01, 8.94978957e-01],\n",
       "       [4.35724009e-01, 5.64275991e-01],\n",
       "       [9.97900708e-01, 2.09929182e-03],\n",
       "       [2.05491586e-01, 7.94508414e-01],\n",
       "       [5.27706143e-01, 4.72293857e-01],\n",
       "       [6.48813711e-01, 3.51186289e-01],\n",
       "       [9.78791122e-01, 2.12088777e-02],\n",
       "       [9.85525576e-01, 1.44744242e-02],\n",
       "       [9.79797458e-01, 2.02025425e-02],\n",
       "       [4.12377697e-02, 9.58762230e-01],\n",
       "       [1.81879754e-01, 8.18120246e-01],\n",
       "       [9.82496516e-01, 1.75034840e-02],\n",
       "       [7.88671357e-01, 2.11328643e-01],\n",
       "       [9.02866112e-01, 9.71338877e-02],\n",
       "       [1.90762745e-01, 8.09237255e-01],\n",
       "       [2.19727181e-01, 7.80272819e-01],\n",
       "       [9.85659863e-01, 1.43401366e-02],\n",
       "       [9.87139744e-01, 1.28602562e-02],\n",
       "       [9.75004349e-01, 2.49956511e-02],\n",
       "       [9.99841963e-01, 1.58036603e-04],\n",
       "       [4.31794330e-01, 5.68205670e-01],\n",
       "       [1.18897203e-01, 8.81102797e-01],\n",
       "       [3.91363127e-02, 9.60863687e-01],\n",
       "       [8.84707091e-01, 1.15292909e-01],\n",
       "       [9.04616041e-01, 9.53839593e-02],\n",
       "       [9.87898279e-01, 1.21017215e-02],\n",
       "       [9.15069462e-01, 8.49305383e-02],\n",
       "       [1.21515093e-01, 8.78484907e-01],\n",
       "       [9.97001211e-01, 2.99878930e-03],\n",
       "       [1.14190945e-01, 8.85809055e-01],\n",
       "       [6.26346551e-01, 3.73653449e-01],\n",
       "       [5.28882502e-03, 9.94711175e-01],\n",
       "       [9.76866025e-03, 9.90231340e-01],\n",
       "       [5.73327659e-02, 9.42667234e-01],\n",
       "       [1.56655582e-02, 9.84334442e-01],\n",
       "       [9.04156108e-01, 9.58438917e-02],\n",
       "       [6.88248875e-01, 3.11751125e-01],\n",
       "       [6.54260674e-02, 9.34573933e-01],\n",
       "       [5.38755780e-03, 9.94612442e-01],\n",
       "       [5.74996222e-02, 9.42500378e-01],\n",
       "       [9.98992593e-01, 1.00740693e-03],\n",
       "       [3.07141569e-01, 6.92858431e-01],\n",
       "       [9.99284114e-01, 7.15886119e-04],\n",
       "       [1.00796339e-02, 9.89920366e-01],\n",
       "       [2.32735242e-01, 7.67264758e-01],\n",
       "       [2.57156166e-02, 9.74284383e-01],\n",
       "       [9.90170429e-01, 9.82957077e-03],\n",
       "       [9.54533769e-01, 4.54662305e-02],\n",
       "       [9.89622988e-01, 1.03770124e-02],\n",
       "       [9.98979012e-01, 1.02098766e-03],\n",
       "       [1.01506984e-01, 8.98493016e-01],\n",
       "       [2.36721956e-02, 9.76327804e-01],\n",
       "       [5.17526446e-04, 9.99482474e-01],\n",
       "       [9.62324897e-01, 3.76751030e-02]])"
      ]
     },
     "execution_count": 33,
     "metadata": {},
     "output_type": "execute_result"
    }
   ],
   "source": [
    "model.predict_proba(x_test)"
   ]
  },
  {
   "cell_type": "code",
   "execution_count": 10,
   "metadata": {},
   "outputs": [
    {
     "name": "stdout",
     "output_type": "stream",
     "text": [
      "Accuracy: 0.920000\n",
      "Precision: 0.923077\n",
      "Recall: 0.923077\n",
      "F1-score: 0.923077\n"
     ]
    }
   ],
   "source": [
    "print(\"Accuracy: %f\" % metrics.accuracy_score(y_test, y_pred))\n",
    "print(\"Precision: %f\" % metrics.precision_score(y_test, y_pred))\n",
    "print(\"Recall: %f\" % metrics.recall_score(y_test, y_pred))\n",
    "print(\"F1-score: %f\" % metrics.f1_score(y_test, y_pred))"
   ]
  },
  {
   "cell_type": "code",
   "execution_count": 11,
   "metadata": {},
   "outputs": [
    {
     "data": {
      "text/plain": [
       "array([[33,  3],\n",
       "       [ 3, 36]])"
      ]
     },
     "execution_count": 11,
     "metadata": {},
     "output_type": "execute_result"
    }
   ],
   "source": [
    "metrics.confusion_matrix(y_test, y_pred)"
   ]
  },
  {
   "cell_type": "code",
   "execution_count": 13,
   "metadata": {},
   "outputs": [
    {
     "name": "stdout",
     "output_type": "stream",
     "text": [
      "             precision    recall  f1-score   support\n",
      "\n",
      "          0       0.92      0.92      0.92        36\n",
      "          1       0.92      0.92      0.92        39\n",
      "\n",
      "avg / total       0.92      0.92      0.92        75\n",
      "\n"
     ]
    }
   ],
   "source": [
    "print(metrics.classification_report(y_test, y_pred))"
   ]
  },
  {
   "cell_type": "code",
   "execution_count": 17,
   "metadata": {},
   "outputs": [
    {
     "data": {
      "text/plain": [
       "<matplotlib.collections.PathCollection at 0x111400a58>"
      ]
     },
     "execution_count": 17,
     "metadata": {},
     "output_type": "execute_result"
    },
    {
     "data": {
      "image/png": "[encoded data removed]",
      "text/plain": [
       "<Figure size 432x288 with 1 Axes>"
      ]
     },
     "metadata": {},
     "output_type": "display_data"
    }
   ],
   "source": [
    "h = 0.02\n",
    "x_min, x_max = X[:, 0].min() - .5, X[:, 0].max() + .5  \n",
    "y_min, y_max = X[:, 1].min() - .5, X[:, 1].max() + .5  \n",
    "xx, yy = np.meshgrid(np.arange(x_min, x_max, h), np.arange(y_min, y_max, h))\n",
    "Z = model.predict(np.c_[xx.ravel(), yy.ravel()])\n",
    "plt.contourf(xx, yy, Z.reshape(xx.shape), cmap=plt.cm.Spectral, alpha=0.8)\n",
    "plt.scatter(x_test[:,0], x_test[:,1], c=y_test, cmap=plt.cm.Spectral)"
   ]
  },
  {
   "cell_type": "code",
   "execution_count": null,
   "metadata": {},
   "outputs": [],
   "source": []
  }
 ],
 "metadata": {
  "kernelspec": {
   "display_name": "Python 3",
   "language": "python",
   "name": "python3"
  },
  "language_info": {
   "codemirror_mode": {
    "name": "ipython",
    "version": 3
   },
   "file_extension": ".py",
   "mimetype": "text/x-python",
   "name": "python",
   "nbconvert_exporter": "python",
   "pygments_lexer": "ipython3",
   "version": "3.6.5"
  }
 },
 "nbformat": 4,
 "nbformat_minor": 2
}
