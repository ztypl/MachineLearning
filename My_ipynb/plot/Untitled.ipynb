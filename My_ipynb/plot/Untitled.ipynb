{
 "cells": [
  {
   "cell_type": "code",
   "execution_count": 29,
   "metadata": {
    "collapsed": true
   },
   "outputs": [],
   "source": [
    "import numpy as np\n",
    "import matplotlib.pyplot as plt\n",
    "\n",
    "%matplotlib inline"
   ]
  },
  {
   "cell_type": "code",
   "execution_count": 56,
   "metadata": {
    "collapsed": true
   },
   "outputs": [],
   "source": []
  },
  {
   "cell_type": "code",
   "execution_count": 80,
   "metadata": {},
   "outputs": [
    {
     "data": {
      "image/png": "[encoded data removed]",
      "text/plain": [
       "<matplotlib.figure.Figure at 0x2d924c32ac8>"
      ]
     },
     "metadata": {},
     "output_type": "display_data"
    }
   ],
   "source": [
    "np.random.seed(6)\n",
    "x1 = np.random.uniform(0.3,2.7,10)\n",
    "x2 = np.random.uniform(0.3,2.7,10)\n",
    "y1 = []\n",
    "y2 = []\n",
    "for x in x1:\n",
    "    y = np.random.uniform(0.3, 3-(x+0.3))\n",
    "    y1.append(y)\n",
    "    \n",
    "for x in x2:\n",
    "    y = np.random.uniform(3-(x-0.3), 2.7)\n",
    "    y2.append(y)\n",
    "\n",
    "with plt.rc_context(rc={\"figure.figsize\":(3.0,3.0)}):\n",
    "    plt.xlim(0,3)\n",
    "    plt.ylim(0,3)\n",
    "    plt.xticks([0,1,2,3])\n",
    "    plt.yticks([0,1,2,3])\n",
    "    plt.scatter(x1,y1, marker='o')\n",
    "    plt.scatter(x2, y2, marker='x')\n",
    "    plt.savefig('boundary.pdf')"
   ]
  },
  {
   "cell_type": "code",
   "execution_count": null,
   "metadata": {},
   "outputs": [],
   "source": []
  },
  {
   "cell_type": "code",
   "execution_count": 14,
   "metadata": {},
   "outputs": [
    {
     "data": {
      "text/plain": [
       "array([  0.00000000e+000,   1.00000000e+000,   7.43338817e-091, ...,\n",
       "         1.00000000e+000,   8.96841943e-153,   1.00000000e+000])"
      ]
     },
     "execution_count": 14,
     "metadata": {},
     "output_type": "execute_result"
    }
   ],
   "source": [
    "y"
   ]
  },
  {
   "cell_type": "code",
   "execution_count": null,
   "metadata": {
    "collapsed": true
   },
   "outputs": [],
   "source": []
  }
 ],
 "metadata": {
  "kernelspec": {
   "display_name": "Python 3",
   "language": "python",
   "name": "python3"
  },
  "language_info": {
   "codemirror_mode": {
    "name": "ipython",
    "version": 3
   },
   "file_extension": ".py",
   "mimetype": "text/x-python",
   "name": "python",
   "nbconvert_exporter": "python",
   "pygments_lexer": "ipython3",
   "version": "3.6.2"
  }
 },
 "nbformat": 4,
 "nbformat_minor": 2
}
