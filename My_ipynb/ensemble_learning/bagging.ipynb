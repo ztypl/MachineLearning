{
 "cells": [
  {
   "cell_type": "code",
   "execution_count": 60,
   "metadata": {},
   "outputs": [],
   "source": [
    "import numpy as np\n",
    "import pandas as pd\n",
    "import matplotlib.pyplot as plt\n",
    "import seaborn as sns\n",
    "\n",
    "from sklearn.ensemble import BaggingClassifier, AdaBoostClassifier, RandomForestClassifier\n",
    "from sklearn.tree import DecisionTreeClassifier\n",
    "from sklearn.datasets import make_classification\n",
    "from sklearn.cross_validation import train_test_split\n",
    "from sklearn.metrics import precision_score, confusion_matrix, classification_report\n",
    "\n",
    "%matplotlib inline"
   ]
  },
  {
   "cell_type": "code",
   "execution_count": 47,
   "metadata": {},
   "outputs": [],
   "source": [
    "X, y = make_classification(100000, n_features=20, n_informative=5, n_redundant=2, random_state=0)\n",
    "X_train, X_test, y_train, y_test = train_test_split(X, y, random_state=0)"
   ]
  },
  {
   "cell_type": "code",
   "execution_count": 56,
   "metadata": {},
   "outputs": [
    {
     "name": "stdout",
     "output_type": "stream",
     "text": [
      "0.912566148013585\n",
      "             precision    recall  f1-score   support\n",
      "\n",
      "          0       0.92      0.91      0.91     12419\n",
      "          1       0.91      0.92      0.92     12581\n",
      "\n",
      "avg / total       0.91      0.91      0.91     25000\n",
      "\n"
     ]
    }
   ],
   "source": [
    "model = DecisionTreeClassifier()\n",
    "model.fit(X_train, y_train)\n",
    "y_pred = model.predict(X_test)\n",
    "print(precision_score(y_test, y_pred))\n",
    "print(classification_report(y_test, y_pred))"
   ]
  },
  {
   "cell_type": "code",
   "execution_count": 57,
   "metadata": {},
   "outputs": [
    {
     "name": "stdout",
     "output_type": "stream",
     "text": [
      "0.9276067839195979\n",
      "             precision    recall  f1-score   support\n",
      "\n",
      "          0       0.94      0.93      0.93     12419\n",
      "          1       0.93      0.94      0.93     12581\n",
      "\n",
      "avg / total       0.93      0.93      0.93     25000\n",
      "\n"
     ]
    }
   ],
   "source": [
    "model_ens = BaggingClassifier(\n",
    "    DecisionTreeClassifier(),\n",
    "    n_estimators=50, \n",
    "    max_features=0.5,\n",
    "    max_samples=0.5,\n",
    "    random_state=0\n",
    ")\n",
    "model_ens.fit(X_train, y_train)\n",
    "y_pred = model_ens.predict(X_test)\n",
    "print(precision_score(y_test, y_pred))\n",
    "print(classification_report(y_test, y_pred))"
   ]
  },
  {
   "cell_type": "code",
   "execution_count": 58,
   "metadata": {},
   "outputs": [
    {
     "name": "stdout",
     "output_type": "stream",
     "text": [
      "0.9140210592985512\n",
      "             precision    recall  f1-score   support\n",
      "\n",
      "          0       0.92      0.91      0.91     12419\n",
      "          1       0.91      0.92      0.92     12581\n",
      "\n",
      "avg / total       0.92      0.92      0.92     25000\n",
      "\n"
     ]
    }
   ],
   "source": [
    "model_ada = AdaBoostClassifier(\n",
    "    DecisionTreeClassifier(),\n",
    "    n_estimators=50, \n",
    "    random_state=0\n",
    ")\n",
    "model_ada.fit(X_train, y_train)\n",
    "y_pred = model_ada.predict(X_test)\n",
    "print(precision_score(y_test, y_pred))\n",
    "print(classification_report(y_test, y_pred))"
   ]
  },
  {
   "cell_type": "code",
   "execution_count": 61,
   "metadata": {},
   "outputs": [
    {
     "name": "stdout",
     "output_type": "stream",
     "text": [
      "0.9414676304211188\n",
      "             precision    recall  f1-score   support\n",
      "\n",
      "          0       0.95      0.94      0.95     12419\n",
      "          1       0.94      0.95      0.95     12581\n",
      "\n",
      "avg / total       0.95      0.95      0.95     25000\n",
      "\n"
     ]
    }
   ],
   "source": [
    "model_rf = RandomForestClassifier(\n",
    "    n_estimators=30, \n",
    "    random_state=0\n",
    ")\n",
    "model_rf.fit(X_train, y_train)\n",
    "y_pred = model_rf.predict(X_test)\n",
    "print(precision_score(y_test, y_pred))\n",
    "print(classification_report(y_test, y_pred))"
   ]
  },
  {
   "cell_type": "code",
   "execution_count": null,
   "metadata": {},
   "outputs": [],
   "source": []
  }
 ],
 "metadata": {
  "kernelspec": {
   "display_name": "Python 3",
   "language": "python",
   "name": "python3"
  },
  "language_info": {
   "codemirror_mode": {
    "name": "ipython",
    "version": 3
   },
   "file_extension": ".py",
   "mimetype": "text/x-python",
   "name": "python",
   "nbconvert_exporter": "python",
   "pygments_lexer": "ipython3",
   "version": "3.6.5"
  }
 },
 "nbformat": 4,
 "nbformat_minor": 2
}
